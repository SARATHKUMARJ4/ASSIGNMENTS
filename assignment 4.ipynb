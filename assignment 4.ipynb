{
 "cells": [
  {
   "cell_type": "code",
   "execution_count": 4,
   "metadata": {},
   "outputs": [
    {
     "name": "stdout",
     "output_type": "stream",
     "text": [
      "a:11\n",
      "b:12\n",
      "c:13\n",
      "area : 61.48170459575759\n"
     ]
    }
   ],
   "source": [
    "#solution for question 1.1\n",
    "class main:\n",
    "    def __init__(self,a,b,c):\n",
    "        self.a = float(a)\n",
    "        self.b = float(b)\n",
    "        self.c = float(c)\n",
    "a= int(input(\"a:\"))\n",
    "b= int(input(\"b:\"))\n",
    "c= int(input(\"c:\"))\n",
    "\n",
    "class sub_class(main):\n",
    "    def __init__(self,a,b,c):\n",
    "        super().__init__(a,b,c)\n",
    "\n",
    "    def area(self):\n",
    "        s = (a + b + c) / 2\n",
    "        return (s*(s-a)*(s-b)*(s-c)) ** 0.5        \n",
    "\n",
    "t = sub_class(a,b,c)\n",
    "print(\"area : {}\".format(t.area()))"
   ]
  },
  {
   "cell_type": "code",
   "execution_count": 3,
   "metadata": {},
   "outputs": [
    {
     "name": "stdout",
     "output_type": "stream",
     "text": [
      "['sarath', 'ineuron', 'aeroplane']\n"
     ]
    }
   ],
   "source": [
    "#solution for question 1.2\n",
    "def filter_long_words(n,list1):\n",
    "    my_list =[]\n",
    "    for i in range (0,len(list1)):\n",
    "        if len(list1[i]) > n:\n",
    "            my_list.append(list1[i])\n",
    "    return(my_list)\n",
    "l=[\"sarath\",\"kumar\",\"cat\",\"dog\",\"super\",\"ineuron\",\"aeroplane\"]\n",
    "f = filter_long_words(5,l)\n",
    "print(f)"
   ]
  },
  {
   "cell_type": "code",
   "execution_count": 5,
   "metadata": {},
   "outputs": [
    {
     "name": "stdout",
     "output_type": "stream",
     "text": [
      "[6, 5, 3, 3, 5, 7, 9]\n"
     ]
    }
   ],
   "source": [
    "#solution for question 2.1\n",
    "def words(list1):\n",
    "    my_list =[]\n",
    "    for i in range (len(list1)):\n",
    "        my_list.append(len(list1[i]))\n",
    "    return(my_list)\n",
    "l=[\"sarath\",\"kumar\",\"cat\",\"dog\",\"super\",\"ineuron\",\"aeroplane\"]\n",
    "f = words(l)\n",
    "print(f)"
   ]
  },
  {
   "cell_type": "code",
   "execution_count": 8,
   "metadata": {},
   "outputs": [
    {
     "name": "stdout",
     "output_type": "stream",
     "text": [
      "True\n"
     ]
    }
   ],
   "source": [
    "#solution for question 2.2\n",
    "def vowels_check(str):\n",
    "    if str[0] == 'a':\n",
    "        return('True')\n",
    "    elif str[0] == 'e':\n",
    "        return('True')\n",
    "    elif str[0] == 'i':\n",
    "        return('True')\n",
    "    elif str[0] == 'o':\n",
    "        return('True')\n",
    "    elif str[0] == 'u':\n",
    "        return('True')\n",
    "    else:\n",
    "        return('False')\n",
    "print(vowels_check(\"ineuron\"))"
   ]
  },
  {
   "cell_type": "code",
   "execution_count": null,
   "metadata": {},
   "outputs": [],
   "source": []
  }
 ],
 "metadata": {
  "kernelspec": {
   "display_name": "Python 3",
   "language": "python",
   "name": "python3"
  },
  "language_info": {
   "codemirror_mode": {
    "name": "ipython",
    "version": 3
   },
   "file_extension": ".py",
   "mimetype": "text/x-python",
   "name": "python",
   "nbconvert_exporter": "python",
   "pygments_lexer": "ipython3",
   "version": "3.7.1"
  }
 },
 "nbformat": 4,
 "nbformat_minor": 2
}
