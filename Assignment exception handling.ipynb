{
 "cells": [
  {
   "cell_type": "code",
   "execution_count": 2,
   "metadata": {},
   "outputs": [
    {
     "name": "stdout",
     "output_type": "stream",
     "text": [
      "This function is an error\n",
      "10\n"
     ]
    }
   ],
   "source": [
    "#solution for question no.1\n",
    "try:\n",
    "    a = 5\n",
    "    b = 0 \n",
    "    x = a/b\n",
    "    print(x)\n",
    "except:\n",
    "    print('This function is an error')\n",
    "y = 10\n",
    "r = y\n",
    "print(r)"
   ]
  },
  {
   "cell_type": "code",
   "execution_count": 3,
   "metadata": {},
   "outputs": [
    {
     "name": "stdout",
     "output_type": "stream",
     "text": [
      "Americans  play Baseball\n",
      "Americans  play Cricket\n",
      "Americans  watch Baseball\n",
      "Americans  watch Cricket\n",
      "Indians play Baseball\n",
      "Indians play Cricket\n",
      "Indians watch Baseball\n",
      "Indians watch Cricket\n"
     ]
    }
   ],
   "source": [
    "#solution for question no.2\n",
    "try:\n",
    "    subjects=[\"Americans \",\"Indians\"]\n",
    "    verbs=[\"play\",\"watch\"]\n",
    "    objects=[\"Baseball\",\"Cricket\"]\n",
    "    for s in range(len(subjects)):\n",
    "        for v in range(len(verbs)):\n",
    "            for o in range(len(objects)):\n",
    "                print(subjects[s],verbs[v],objects[o])\n",
    "except:\n",
    "    print(\"This functions as some error\")"
   ]
  },
  {
   "cell_type": "code",
   "execution_count": null,
   "metadata": {},
   "outputs": [],
   "source": []
  }
 ],
 "metadata": {
  "kernelspec": {
   "display_name": "Python 3",
   "language": "python",
   "name": "python3"
  },
  "language_info": {
   "codemirror_mode": {
    "name": "ipython",
    "version": 3
   },
   "file_extension": ".py",
   "mimetype": "text/x-python",
   "name": "python",
   "nbconvert_exporter": "python",
   "pygments_lexer": "ipython3",
   "version": "3.8.3"
  }
 },
 "nbformat": 4,
 "nbformat_minor": 4
}
