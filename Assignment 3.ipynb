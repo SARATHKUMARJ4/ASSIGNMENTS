{
 "cells": [
  {
   "cell_type": "code",
   "execution_count": 3,
   "metadata": {},
   "outputs": [
    {
     "name": "stdout",
     "output_type": "stream",
     "text": [
      "-13\n"
     ]
    }
   ],
   "source": [
    "#solution for question 1.1\n",
    "def my_reduce(func,list1):\n",
    "    x = list1[0]\n",
    "    for i in range(1,len(list1)):\n",
    "       x = func(x,list1[i])\n",
    "    return x\n",
    "def add(a,b):\n",
    "    return a + b \n",
    "def sub(a,b):\n",
    "    return a - b\n",
    "l = [1,2,3,4,5]\n",
    "print(my_reduce(sub,l))"
   ]
  },
  {
   "cell_type": "code",
   "execution_count": 9,
   "metadata": {},
   "outputs": [
    {
     "name": "stdout",
     "output_type": "stream",
     "text": [
      "4\n",
      "5\n",
      "6\n",
      "7\n",
      "8\n",
      "None\n"
     ]
    }
   ],
   "source": [
    "#solution for question 1.2\n",
    "#my_fliter to print all number greater than or equal to 4\n",
    "def my_filter(func,list2):\n",
    "    for r in range(0,len(list2)):\n",
    "        x = func(list2[r])\n",
    "def check(a):\n",
    "     if a >= 4:\n",
    "      print(a)\n",
    "l=[1,2,3,4,5,6,7,8]\n",
    "print(my_filter(check,l))\n"
   ]
  },
  {
   "cell_type": "code",
   "execution_count": 3,
   "metadata": {},
   "outputs": [
    {
     "name": "stdout",
     "output_type": "stream",
     "text": [
      "['x', 'xx', 'xxx', 'xxxx', 'y', 'yy', 'yyy', 'yyyy', 'z', 'zz', 'zzz', 'zzzz']\n"
     ]
    }
   ],
   "source": [
    "#solution for 2(a)\n",
    "a = ['x','y','z']\n",
    "result = [a[c]*b for c in range(0,3) for b in range(1,5)]\n",
    "print(str(result))"
   ]
  },
  {
   "cell_type": "code",
   "execution_count": 4,
   "metadata": {},
   "outputs": [
    {
     "name": "stdout",
     "output_type": "stream",
     "text": [
      "['x', 'y', 'z', 'xx', 'yy', 'zz', 'xxx', 'yyy', 'zzz', 'xxxx', 'yyyy', 'zzzz']\n"
     ]
    }
   ],
   "source": [
    "#solution for 2(b)\n",
    "a = ['x','y','z']\n",
    "result1 = [a[c]*b for b in range(1,5) for c in range(0,3)]\n",
    "print(str(result1))"
   ]
  },
  {
   "cell_type": "code",
   "execution_count": 3,
   "metadata": {},
   "outputs": [
    {
     "name": "stdout",
     "output_type": "stream",
     "text": [
      "[[2], [3], [4], [3], [4], [5], [4], [5], [6]]\n"
     ]
    }
   ],
   "source": [
    "#solution for 2(c)\n",
    "a = [1,2,3]\n",
    "result2 = [([a[i]+n]) for i in range (0,3) for n in range(1,4)]\n",
    "print(result2)"
   ]
  },
  {
   "cell_type": "code",
   "execution_count": 4,
   "metadata": {},
   "outputs": [
    {
     "name": "stdout",
     "output_type": "stream",
     "text": [
      "[[2, 3, 4, 5], [3, 4, 5, 6], [4, 5, 6, 7], [5, 6, 7, 8]]\n"
     ]
    }
   ],
   "source": [
    "#solution for 2(d)\n",
    "a = [1,2,3,4]\n",
    "res = [[(a[i] + n) for i in range(0,4)] for n in range(1,5)]\n",
    "print(res)"
   ]
  },
  {
   "cell_type": "code",
   "execution_count": 12,
   "metadata": {},
   "outputs": [
    {
     "name": "stdout",
     "output_type": "stream",
     "text": [
      "[(1, 1), (2, 1), (3, 1), (1, 2), (2, 2), (3, 2), (1, 3), (2, 3), (3, 3)]\n"
     ]
    }
   ],
   "source": [
    "#solution for 2(e)\n",
    "u = (1,2,3)\n",
    "v = (1,2,3)\n",
    "result3 = [(u[q],v[p]) for p in range(0,3) for q in range(0,3)]\n",
    "print(result3)"
   ]
  },
  {
   "cell_type": "code",
   "execution_count": null,
   "metadata": {},
   "outputs": [],
   "source": []
  },
  {
   "cell_type": "code",
   "execution_count": null,
   "metadata": {},
   "outputs": [],
   "source": []
  }
 ],
 "metadata": {
  "kernelspec": {
   "display_name": "Python 3",
   "language": "python",
   "name": "python3"
  },
  "language_info": {
   "codemirror_mode": {
    "name": "ipython",
    "version": 3
   },
   "file_extension": ".py",
   "mimetype": "text/x-python",
   "name": "python",
   "nbconvert_exporter": "python",
   "pygments_lexer": "ipython3",
   "version": "3.8.3"
  }
 },
 "nbformat": 4,
 "nbformat_minor": 4
}
